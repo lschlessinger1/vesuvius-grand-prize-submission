{
 "cells": [
  {
   "cell_type": "code",
   "execution_count": null,
   "metadata": {},
   "outputs": [],
   "source": [
    "from dotenv import load_dotenv\n",
    "\n",
    "load_dotenv()\n",
    "from matplotlib import pyplot as plt\n",
    "import seaborn as sns\n",
    "import pandas as pd"
   ]
  },
  {
   "cell_type": "code",
   "execution_count": null,
   "metadata": {
    "collapsed": false
   },
   "outputs": [],
   "source": [
    "from vesuvius_challenge_rnd.data import Fragment, Scroll, MonsterSegmentRecto, MonsterSegmentVerso"
   ]
  },
  {
   "cell_type": "markdown",
   "metadata": {
    "collapsed": false
   },
   "source": [
    "## Fragments"
   ]
  },
  {
   "cell_type": "markdown",
   "metadata": {
    "collapsed": false
   },
   "source": [
    "### Load data"
   ]
  },
  {
   "cell_type": "code",
   "execution_count": null,
   "metadata": {
    "collapsed": false
   },
   "outputs": [],
   "source": [
    "fragments = [Fragment(i + 1) for i in range(3)]\n",
    "fragments"
   ]
  },
  {
   "cell_type": "markdown",
   "metadata": {
    "collapsed": false
   },
   "source": [
    "### Visualize fragments"
   ]
  },
  {
   "cell_type": "code",
   "execution_count": null,
   "metadata": {
    "collapsed": false
   },
   "outputs": [],
   "source": [
    "fig, ax = plt.subplots(len(fragments), 4, figsize=(12, 10), sharex=\"row\", sharey=\"row\")\n",
    "for i, axis in enumerate(ax):\n",
    "    ax1, ax2, ax3, ax4 = axis\n",
    "\n",
    "    # Set title for first row only.\n",
    "    if i == 0:\n",
    "        ax1.set_title(\"IR image\")\n",
    "        ax2.set_title(\"Papyrus mask\")\n",
    "\n",
    "        ax3.set_title(\"Ink labels\")\n",
    "        ax4.set_title(\"Slice 32 micro-CT\")\n",
    "\n",
    "    ir_img = fragments[i].load_ir_img()\n",
    "    ax1.imshow(ir_img, cmap=\"gray\")\n",
    "\n",
    "    mask = fragments[i].load_mask()\n",
    "    ax2.imshow(mask, cmap=\"binary\")\n",
    "\n",
    "    ink_labels = fragments[i].load_ink_labels()\n",
    "    ax3.imshow(ink_labels, cmap=\"binary\")\n",
    "\n",
    "    subvolume = fragments[i].load_volume_as_memmap(31, 32)\n",
    "    ax4.imshow(subvolume[0], cmap=\"gray\")\n",
    "\n",
    "plt.tight_layout()\n",
    "\n",
    "plt.show()"
   ]
  },
  {
   "cell_type": "markdown",
   "metadata": {
    "collapsed": false
   },
   "source": [
    "## Scrolls"
   ]
  },
  {
   "cell_type": "markdown",
   "metadata": {
    "collapsed": false
   },
   "source": [
    "### Load data"
   ]
  },
  {
   "cell_type": "code",
   "execution_count": null,
   "metadata": {
    "collapsed": false
   },
   "outputs": [],
   "source": [
    "scrolls = [Scroll(i + 1) for i in range(2)]\n",
    "scrolls"
   ]
  },
  {
   "cell_type": "markdown",
   "metadata": {
    "collapsed": false
   },
   "source": [
    "Let's see how many missing segments there are."
   ]
  },
  {
   "cell_type": "code",
   "execution_count": null,
   "metadata": {
    "collapsed": false
   },
   "outputs": [],
   "source": [
    "for scroll in scrolls:\n",
    "    print(f\"Scroll {scroll.scroll_id} num missing segments: {scroll.n_missing_segments}\")"
   ]
  },
  {
   "cell_type": "markdown",
   "metadata": {
    "collapsed": false
   },
   "source": [
    "### View shape distribution\n",
    "Let's look at the shape distribution. First of all, do they all have 65 slices?"
   ]
  },
  {
   "cell_type": "code",
   "execution_count": null,
   "metadata": {
    "collapsed": false
   },
   "outputs": [],
   "source": [
    "unique_num_slices = set()\n",
    "for scroll in scrolls:\n",
    "    for segment in scroll.segments:\n",
    "        unique_num_slices.add(segment.n_slices)\n",
    "print(f\"Unique number of slices: {unique_num_slices}\")"
   ]
  },
  {
   "cell_type": "markdown",
   "metadata": {
    "collapsed": false
   },
   "source": [
    "So they all have 65 slices. How about the surface shapes?"
   ]
  },
  {
   "cell_type": "code",
   "execution_count": null,
   "metadata": {
    "collapsed": false
   },
   "outputs": [],
   "source": [
    "surface_shapes = []\n",
    "labels = []\n",
    "for scroll in scrolls:\n",
    "    for segment in scroll.segments:\n",
    "        surface_shapes.append(segment.surface_shape)\n",
    "        labels.append(scroll.scroll_id)\n",
    "\n",
    "surface_shape_df = pd.DataFrame({\"Surface shape\": surface_shapes, \"Scroll\": labels})\n",
    "surface_shape_df[[\"Num rows\", \"Num columns\"]] = surface_shape_df[\"Surface shape\"].apply(pd.Series)\n",
    "surface_shape_df = surface_shape_df.drop(\"Surface shape\", axis=1)\n",
    "\n",
    "joint_plot = sns.jointplot(\n",
    "    data=surface_shape_df, x=\"Num rows\", y=\"Num columns\", hue=\"Scroll\", kind=\"scatter\"\n",
    ")\n",
    "joint_plot.fig.suptitle(\"Surface shape distribution by scroll\", y=1.02)\n",
    "\n",
    "plt.show()"
   ]
  },
  {
   "cell_type": "markdown",
   "metadata": {
    "collapsed": false
   },
   "source": [
    "### Area distribution\n",
    "\n",
    "Let's look at the scroll segment area distribution."
   ]
  },
  {
   "cell_type": "code",
   "execution_count": null,
   "metadata": {
    "collapsed": false
   },
   "outputs": [],
   "source": [
    "areas = []\n",
    "labels = []\n",
    "for scroll in scrolls:\n",
    "    for segment in scroll.segments:\n",
    "        try:\n",
    "            area = segment.area_cm2\n",
    "        except FileNotFoundError as e:\n",
    "            print(f\"Skipping segment {segment.segment_name}: {e}\")\n",
    "            continue\n",
    "        areas.append(area)\n",
    "        labels.append(scroll.scroll_id)\n",
    "area_df = pd.DataFrame({\"Area\": areas, \"Scroll\": labels})\n",
    "sns.histplot(data=area_df, x=\"Area\", hue=\"Scroll\")\n",
    "\n",
    "plt.title(\"Area distribution by scroll\")\n",
    "plt.xlabel(r\"Segment area $(cm^2)$\")\n",
    "plt.show()"
   ]
  },
  {
   "cell_type": "markdown",
   "metadata": {
    "collapsed": false
   },
   "source": [
    "### Author distribution\n",
    "\n",
    "Here, we look at the distribution of authors (annotators) for each scroll segment."
   ]
  },
  {
   "cell_type": "code",
   "execution_count": null,
   "metadata": {
    "collapsed": false
   },
   "outputs": [],
   "source": [
    "authors = []\n",
    "labels = []\n",
    "for scroll in scrolls:\n",
    "    for segment in scroll.segments:\n",
    "        try:\n",
    "            author = segment.author\n",
    "        except FileNotFoundError as e:\n",
    "            print(f\"Skipping segment {segment.segment_name}: {e}\")\n",
    "            continue\n",
    "        authors.append(segment.author)\n",
    "        labels.append(scroll.scroll_id)\n",
    "\n",
    "author_df = pd.DataFrame({\"Author\": authors, \"Scroll\": labels})\n",
    "\n",
    "sns.histplot(\n",
    "    data=author_df,\n",
    "    x=\"Author\",\n",
    "    hue=\"Scroll\",\n",
    "    element=\"step\",\n",
    "    stat=\"count\",\n",
    "    binwidth=0.5,\n",
    "    discrete=True,\n",
    "    alpha=0.5,\n",
    ")\n",
    "\n",
    "plt.title(\"Author distribution by scroll\")\n",
    "plt.xticks(rotation=30)\n",
    "plt.show()"
   ]
  },
  {
   "cell_type": "markdown",
   "metadata": {
    "collapsed": false
   },
   "source": [
    "### Visualize a scroll segment\n",
    "\n",
    "We look at about 10 slices from the first segment of the first scroll."
   ]
  },
  {
   "cell_type": "code",
   "execution_count": null,
   "metadata": {
    "collapsed": false
   },
   "outputs": [],
   "source": [
    "z_min = 27\n",
    "z_max = 37\n",
    "n_slices_to_show = z_max - z_min\n",
    "segment = scrolls[0][0]\n",
    "print(segment)\n",
    "fig, ax = plt.subplots(1, 1 + n_slices_to_show, figsize=(25, 25), sharex=\"row\", sharey=\"row\")\n",
    "\n",
    "# Show mask.\n",
    "ax1 = ax[0]\n",
    "mask = segment.load_mask()\n",
    "ax1.imshow(mask, cmap=\"binary\")\n",
    "ax1.set_title(\"Papyrus mask\")\n",
    "\n",
    "# Show subvolume.\n",
    "subvolume = segment.load_volume_as_memmap(z_min, z_max)\n",
    "for i, axis in enumerate(ax[1:]):\n",
    "    axis.imshow(subvolume[i], cmap=\"gray\")\n",
    "    axis.set_title(f\"Slice {i + z_min}\", fontsize=10)\n",
    "\n",
    "plt.tight_layout()\n",
    "\n",
    "plt.show()"
   ]
  },
  {
   "cell_type": "markdown",
   "metadata": {},
   "source": [
    "### Visualize the monster segment\n",
    "\n",
    "These are already included in scroll 1, but we can also create them separately."
   ]
  },
  {
   "cell_type": "markdown",
   "metadata": {},
   "source": [
    "#### Recto"
   ]
  },
  {
   "cell_type": "code",
   "execution_count": null,
   "metadata": {},
   "outputs": [],
   "source": [
    "z_min = 31\n",
    "z_max = 34\n",
    "n_slices_to_show = z_max - z_min\n",
    "segment = MonsterSegmentRecto()\n",
    "print(f\"orientation: '{segment.orientation}'\")\n",
    "print(segment)\n",
    "fig, ax = plt.subplots(1, 1 + n_slices_to_show, figsize=(25, 25), sharex=\"row\", sharey=\"row\")\n",
    "\n",
    "# Show mask.\n",
    "ax1 = ax[0]\n",
    "mask = segment.load_mask()\n",
    "ax1.imshow(mask, cmap=\"binary\")\n",
    "ax1.set_title(\"Papyrus mask\")\n",
    "\n",
    "# Show subvolume.\n",
    "subvolume = segment.load_volume_as_memmap(z_min, z_max)\n",
    "for i, axis in enumerate(ax[1:]):\n",
    "    axis.imshow(subvolume[i], cmap=\"gray\")\n",
    "    axis.set_title(f\"Slice {i + z_min}\", fontsize=10)\n",
    "\n",
    "plt.tight_layout()\n",
    "\n",
    "plt.show()"
   ]
  },
  {
   "cell_type": "markdown",
   "metadata": {},
   "source": [
    "#### Verso"
   ]
  },
  {
   "cell_type": "code",
   "execution_count": null,
   "metadata": {},
   "outputs": [],
   "source": [
    "z_min = 31\n",
    "z_max = 34\n",
    "n_slices_to_show = z_max - z_min\n",
    "segment = MonsterSegmentVerso()\n",
    "print(f\"orientation: '{segment.orientation}'\")\n",
    "print(segment)\n",
    "fig, ax = plt.subplots(1, 1 + n_slices_to_show, figsize=(25, 25), sharex=\"row\", sharey=\"row\")\n",
    "\n",
    "# Show mask.\n",
    "ax1 = ax[0]\n",
    "mask = segment.load_mask()\n",
    "ax1.imshow(mask, cmap=\"binary\")\n",
    "ax1.set_title(\"Papyrus mask\")\n",
    "\n",
    "# Show subvolume.\n",
    "subvolume = segment.load_volume_as_memmap(z_min, z_max)\n",
    "for i, axis in enumerate(ax[1:]):\n",
    "    axis.imshow(subvolume[i], cmap=\"gray\")\n",
    "    axis.set_title(f\"Slice {i + z_min}\", fontsize=10)\n",
    "\n",
    "plt.tight_layout()\n",
    "\n",
    "plt.show()"
   ]
  }
 ],
 "metadata": {
  "kernelspec": {
   "display_name": "Python 3 (ipykernel)",
   "language": "python",
   "name": "python3"
  },
  "language_info": {
   "codemirror_mode": {
    "name": "ipython",
    "version": 3
   },
   "file_extension": ".py",
   "mimetype": "text/x-python",
   "name": "python",
   "nbconvert_exporter": "python",
   "pygments_lexer": "ipython3",
   "version": "3.10.1"
  }
 },
 "nbformat": 4,
 "nbformat_minor": 4
}
